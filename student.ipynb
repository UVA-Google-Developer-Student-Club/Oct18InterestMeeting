{
  "nbformat": 4,
  "nbformat_minor": 0,
  "metadata": {
    "colab": {
      "provenance": []
    },
    "kernelspec": {
      "name": "python3",
      "display_name": "Python 3"
    },
    "language_info": {
      "name": "python"
    }
  },
  "cells": [
    {
      "cell_type": "code",
      "execution_count": null,
      "metadata": {
        "id": "Vt26qKv2XYB8"
      },
      "outputs": [],
      "source": [
        "import requests\n",
        "import time\n",
        "\n",
        "\n",
        "# Search for a model that you are interested in using the Hugging Face model hub: https://huggingface.co/models\n",
        "# When you find a model that you are interested in using, click \"Deploy\" and then \"Inference API\"\n",
        "# Click \"Show API Token\" and copy the API_URL and headers below\n",
        "API_URL = \"MODEL_API_URL\"\n",
        "headers = {\"Authorization\": \"HUGGING_FACE_API_KEY\"}\n",
        "\n",
        "# Change \"YOUR_NAME\" and \"YOUR_REVIEW\" to your name and your review of the club so far,\n",
        "# Your review will be emotionally analyzed by the model\n",
        "my_name = \"YOUR_NAME\"\n",
        "my_review = \"YOUR_REVIEW\"\n",
        "\n",
        "\n",
        "# Function to communicate with HuggingFace in order to request an emotional analysis of our review\n",
        "def infer_emotions(prompt):\n",
        "    # TODO implement this\n",
        "    pass\n",
        "\n",
        "\n",
        "# get the emotions of the review\n",
        "answer = infer_emotions({\n",
        "    \"inputs\": my_review,\n",
        "})\n",
        "\n",
        "# You don't need to worry about this\n",
        "# It just ensures that the model is loaded before we try to use it\n",
        "while answer.status_code != 200:\n",
        "    answer = infer_emotions({\n",
        "        \"inputs\": my_review,\n",
        "    })\n",
        "    time.sleep(4)\n",
        "\n",
        "answer = answer.json()[0]\n",
        "\n",
        "# Send the results to the database on our website\n",
        "# helper function to format data\n",
        "\n",
        "\n",
        "def format_data():\n",
        "    data = {\"name\": my_name, \"review\": my_review}\n",
        "    for key in answer:\n",
        "        data[key['label']] = key[\"score\"]\n",
        "    return data\n",
        "\n",
        "\n",
        "# Format the data\n",
        "data = format_data()\n",
        "\n",
        "# THe URL of our database\n",
        "database_url = \"https://oct18interestmeeting-default-rtdb.firebaseio.com/\"\n",
        "\n",
        "# push the data to a list of data under /submissions\n",
        "# TODO implement this"
      ]
    }
  ]
}